{
 "cells": [
  {
   "cell_type": "markdown",
   "metadata": {
    "id": "99uzECDycBC9"
   },
   "source": [
    "# <center>Artificial Intelligence</center>  <center>Fall 2023</center>\n",
    "## Lab 01\n",
    "#### Name:saleem  Malik\n",
    "#### Roll number: 2021-CS-32\n"
   ]
  },
  {
   "cell_type": "code",
   "execution_count": null,
   "metadata": {},
   "outputs": [],
   "source": []
  },
  {
   "cell_type": "markdown",
   "metadata": {
    "id": "oGeXcV1ieX5k"
   },
   "source": [
    "Take weight in kgs and convert it into pounds. 1 pound = 1 kg 2.2046 **(2 marks)**"
   ]
  },
  {
   "cell_type": "code",
   "execution_count": 2,
   "metadata": {
    "id": "kLLZInc9eZX9"
   },
   "outputs": [
    {
     "name": "stdin",
     "output_type": "stream",
     "text": [
      "Enter  Weight 10\n"
     ]
    },
    {
     "name": "stdout",
     "output_type": "stream",
     "text": [
      "22.046\n"
     ]
    }
   ],
   "source": [
    "## add code here\n",
    "a = input('Enter  Weight')\n",
    "result = int(a)*2.2046\n",
    "print(result)"
   ]
  },
  {
   "cell_type": "markdown",
   "metadata": {
    "id": "xLXJt74qebph"
   },
   "source": [
    "Calculate the cost of all the items in a shopping cart. **(2 marks)**"
   ]
  },
  {
   "cell_type": "code",
   "execution_count": 16,
   "metadata": {
    "id": "Pd59WwdpehIW"
   },
   "outputs": [
    {
     "name": "stdout",
     "output_type": "stream",
     "text": [
      "305\n"
     ]
    }
   ],
   "source": [
    "prices =[20,50,80,10,56,89]\n",
    "## add code here\n",
    "sum = 0 \n",
    "for i in prices:\n",
    "    sum  = sum + i\n",
    "print(sum)    "
   ]
  },
  {
   "cell_type": "markdown",
   "metadata": {
    "id": "EGq2J0jeeqF_"
   },
   "source": [
    "Write a function that returns the maximum of two numbers. **(2 marks)**"
   ]
  },
  {
   "cell_type": "code",
   "execution_count": 17,
   "metadata": {
    "id": "joOHP51beunx"
   },
   "outputs": [
    {
     "data": {
      "text/plain": [
       "15"
      ]
     },
     "execution_count": 17,
     "metadata": {},
     "output_type": "execute_result"
    }
   ],
   "source": [
    "## add code here\n",
    "def max_(a, b):\n",
    "    return max(a,b)\n",
    "max_(10,15)"
   ]
  },
  {
   "cell_type": "markdown",
   "metadata": {
    "id": "B8cHTHEYe1em"
   },
   "source": [
    "Write a function called **deepmind** that takes a number  **(4 marks)**\n",
    "* If the number is divisible by 3, it should return deep.\n",
    "* If it is divisible by 5, it should return mind.\n",
    "* If it is divisible by both 3 and 5, it should return deepmind.\n",
    "* Otherwise, it should return the same number.\n",
    "\n",
    "\n"
   ]
  },
  {
   "cell_type": "code",
   "execution_count": 1,
   "metadata": {
    "id": "k7r-_lhqfAtQ"
   },
   "outputs": [
    {
     "name": "stdout",
     "output_type": "stream",
     "text": [
      "deep\n"
     ]
    }
   ],
   "source": [
    "def deepmind(number):\n",
    "    if number % 3 == 0 and number % 5 == 0:\n",
    "        return 'deepmind'\n",
    "    elif number % 3 == 0:\n",
    "        return 'deep'\n",
    "    elif number % 5 == 0:\n",
    "        return 'mind'\n",
    "    else:\n",
    "        return number\n",
    "\n",
    "print(deepmind(9))\n"
   ]
  },
  {
   "cell_type": "markdown",
   "metadata": {
    "id": "rY5K6INzcGDS"
   },
   "source": [
    "**listA** =  [1,2,3,4,5,6,7,8,9,10]  \n",
    "\n",
    "If an element of **listA** is smaller than 5, replace it with 0. And if an element of x is bigger than 5, replace it with 1. (**2 marks**)"
   ]
  },
  {
   "cell_type": "code",
   "execution_count": 8,
   "metadata": {
    "id": "qEAtvmNycFsQ"
   },
   "outputs": [
    {
     "name": "stdout",
     "output_type": "stream",
     "text": [
      "[0, 0, 0, 0, 5, 1, 1, 1, 1, 1]\n"
     ]
    }
   ],
   "source": [
    "## add code here\n",
    "listA = [1,2,3,4,5,6,7,8,9,10]\n",
    "for i in range(0, len(listA)):\n",
    "    if(listA[i]<5):\n",
    "        listA[i] = 0\n",
    "    elif(listA[i]>5):\n",
    "        listA[i] = 1\n",
    "        \n",
    "print(listA)      "
   ]
  },
  {
   "cell_type": "markdown",
   "metadata": {
    "id": "m5tWGbKxcIug"
   },
   "source": [
    "Compute the square of **listA** elements in one line. (**2 marks**)\n"
   ]
  },
  {
   "cell_type": "code",
   "execution_count": 15,
   "metadata": {
    "id": "ajneZNrXcL0A"
   },
   "outputs": [
    {
     "name": "stdout",
     "output_type": "stream",
     "text": [
      "[1, 4, 9, 16, 25, 36, 49, 64, 81, 100]\n"
     ]
    }
   ],
   "source": [
    "listA = [1,2,3,4,5,6,7,8,9,10]\n",
    "## add code here\n",
    "listA_ = [ i ** 2 for i in listA]\n",
    "print(listA_)"
   ]
  },
  {
   "cell_type": "markdown",
   "metadata": {
    "id": "vPO_Yx8BcL-Q"
   },
   "source": [
    "Concatenate b1 and b2. (**2 marks**)"
   ]
  },
  {
   "cell_type": "code",
   "execution_count": 20,
   "metadata": {
    "id": "BREFhCCbcPGw"
   },
   "outputs": [
    {
     "name": "stdout",
     "output_type": "stream",
     "text": [
      "['Hello', 'in', 'first', 'Students', 'the', 'recitation']\n"
     ]
    }
   ],
   "source": [
    "b1 = ['Hello', 'in','first']\n",
    "b2 = ['Students','the','recitation']\n",
    "## add code here\n",
    "data = b1 + b2\n",
    "print(data)"
   ]
  },
  {
   "cell_type": "markdown",
   "metadata": {
    "id": "ri-m2ia5chLO"
   },
   "source": [
    "Create a dictionary of student **Ali** where the keys are courses and values are total and obtaining marks in each course. Print the dictionary items subjects wise **(2 marks)**"
   ]
  },
  {
   "cell_type": "code",
   "execution_count": 25,
   "metadata": {
    "id": "m8FMBIGbchwa"
   },
   "outputs": [
    {
     "name": "stdout",
     "output_type": "stream",
     "text": [
      "Subject: Math\n",
      "Total Marks: 100\n",
      "Obtained Marks: 90\n",
      "\n",
      "Subject: Science\n",
      "Total Marks: 100\n",
      "Obtained Marks: 85\n",
      "\n",
      "Subject: History\n",
      "Total Marks: 100\n",
      "Obtained Marks: 78\n",
      "\n",
      "Subject: English\n",
      "Total Marks: 100\n",
      "Obtained Marks: 92\n",
      "\n"
     ]
    }
   ],
   "source": [
    "# Create a dictionary for student Ali\n",
    "ali_grades = {\n",
    "    'Math': {'Total Marks': 100, 'Obtained Marks': 90},\n",
    "    'Science': {'Total Marks': 100, 'Obtained Marks': 85},\n",
    "    'History': {'Total Marks': 100, 'Obtained Marks': 78},\n",
    "    'English': {'Total Marks': 100, 'Obtained Marks': 92}\n",
    "}\n",
    "\n",
    "# Print the dictionary items subject-wise\n",
    "for subject, grades in ali_grades.items():\n",
    "    print(f\"Subject: {subject}\")\n",
    "    print(f\"Total Marks: {grades['Total Marks']}\")\n",
    "    print(f\"Obtained Marks: {grades['Obtained Marks']}\")\n",
    "    print()\n",
    "\n",
    "\n"
   ]
  },
  {
   "cell_type": "markdown",
   "metadata": {
    "id": "ZylTcdsIclSP"
   },
   "source": [
    "Create a class 'calculator' with the following functions to compute i) addition, ii) subtraction, iii)multiplication, iv)division and v)square\n",
    "between two numbers. **(2 marks)**"
   ]
  },
  {
   "cell_type": "code",
   "execution_count": 29,
   "metadata": {
    "id": "SX_v-PbuclrV"
   },
   "outputs": [
    {
     "name": "stdout",
     "output_type": "stream",
     "text": [
      "2\n",
      "0\n",
      "1\n",
      "1.0\n",
      "4\n"
     ]
    }
   ],
   "source": [
    "## add code here\n",
    "class Calculator:\n",
    "    def add(self, num1, num2):\n",
    "        return num1 + num2\n",
    "\n",
    "    def subtract(self, num1, num2):\n",
    "        return num1 - num2\n",
    "\n",
    "    def multiply(self, num1, num2):\n",
    "        return num1 * num2\n",
    "\n",
    "    def divide(self, num1, num2):\n",
    "        if num2 == 0:\n",
    "            return \"Error: Division by zero\"\n",
    "        return num1 / num2\n",
    "\n",
    "    def square(self, num):\n",
    "        return num ** 2\n",
    "\n",
    "obj = Calculator()\n",
    "print(obj.add(1,1))\n",
    "print(obj.subtract(1,1))\n",
    "print(obj.multiply(1,1))\n",
    "print(obj.divide(1,1))\n",
    "print(obj.square(2))\n",
    "\n"
   ]
  }
 ],
 "metadata": {
  "colab": {
   "provenance": []
  },
  "kernelspec": {
   "display_name": "Python 3 (ipykernel)",
   "language": "python",
   "name": "python3"
  },
  "language_info": {
   "codemirror_mode": {
    "name": "ipython",
    "version": 3
   },
   "file_extension": ".py",
   "mimetype": "text/x-python",
   "name": "python",
   "nbconvert_exporter": "python",
   "pygments_lexer": "ipython3",
   "version": "3.11.4"
  }
 },
 "nbformat": 4,
 "nbformat_minor": 4
}
